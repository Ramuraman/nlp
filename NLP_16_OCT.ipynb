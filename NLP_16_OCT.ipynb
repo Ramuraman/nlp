{
 "cells": [
  {
   "cell_type": "code",
   "execution_count": 2,
   "metadata": {},
   "outputs": [
    {
     "name": "stdout",
     "output_type": "stream",
     "text": [
      "(S\n",
      "  (NP the/DT little/JJ yellow/JJ dog/NN)\n",
      "  barked/VBD\n",
      "  at/IN\n",
      "  (NP the/DT cat/NN))\n"
     ]
    }
   ],
   "source": [
    "import nltk\n",
    "sentence = [(\"the\", \"DT\"), (\"little\", \"JJ\"), (\"yellow\", \"JJ\"),(\"dog\", \"NN\"), (\"barked\", \"VBD\"), (\"at\", \"IN\"),  (\"the\", \"DT\"), (\"cat\", \"NN\")]\n",
    "grammar=\"NP:{<DT>?<JJ>*<NN>}\"\n",
    "cp=nltk.RegexpParser(grammar)\n",
    "result= cp.parse(sentence)\n",
    "print (result)"
   ]
  },
  {
   "cell_type": "code",
   "execution_count": 3,
   "metadata": {},
   "outputs": [],
   "source": [
    "result.draw()"
   ]
  },
  {
   "cell_type": "code",
   "execution_count": 11,
   "metadata": {},
   "outputs": [
    {
     "name": "stdout",
     "output_type": "stream",
     "text": [
      "[('Four', 'CD'), ('score', 'NN'), ('and', 'CC'), ('seven', 'CD'), ('years', 'NNS'), ('ago', 'RB'), ('our', 'PRP$'), ('fathers', 'NNS'), ('brought', 'VBN'), ('forth', 'RB'), ('on', 'IN'), ('this', 'DT'), ('continent', 'NN'), (',', ','), ('a', 'DT'), ('new', 'JJ'), ('nation', 'NN'), (',', ','), ('conceived', 'VBN'), ('in', 'IN'), ('Liberty', 'NNP'), (',', ','), ('and', 'CC'), ('dedicated', 'VBD'), ('to', 'TO'), ('the', 'DT'), ('proposition', 'NN'), ('that', 'IN'), ('all', 'DT'), ('men', 'NNS'), ('are', 'VBP'), ('created', 'VBN'), ('equal', 'JJ'), ('.', '.')]\n",
      "[('Now', 'RB'), ('we', 'PRP'), ('are', 'VBP'), ('engaged', 'VBN'), ('in', 'IN'), ('a', 'DT'), ('great', 'JJ'), ('civil', 'JJ'), ('war', 'NN'), (',', ','), ('testing', 'VBG'), ('whether', 'IN'), ('that', 'DT'), ('nation', 'NN'), (',', ','), ('or', 'CC'), ('any', 'DT'), ('nation', 'NN'), ('so', 'RB'), ('conceived', 'JJ'), ('and', 'CC'), ('so', 'RB'), ('dedicated', 'JJ'), (',', ','), ('can', 'MD'), ('long', 'VB'), ('endure', 'NN'), ('.', '.')]\n",
      "[('We', 'PRP'), ('are', 'VBP'), ('met', 'VBN'), ('on', 'IN'), ('a', 'DT'), ('great', 'JJ'), ('battle-field', 'NN'), ('of', 'IN'), ('that', 'DT'), ('war', 'NN'), ('.', '.')]\n",
      "[('We', 'PRP'), ('have', 'VBP'), ('come', 'VBN'), ('to', 'TO'), ('dedicate', 'VB'), ('a', 'DT'), ('portion', 'NN'), ('of', 'IN'), ('that', 'DT'), ('field', 'NN'), (',', ','), ('as', 'IN'), ('a', 'DT'), ('final', 'JJ'), ('resting', 'NN'), ('place', 'NN'), ('for', 'IN'), ('those', 'DT'), ('who', 'WP'), ('here', 'RB'), ('gave', 'VBD'), ('their', 'PRP$'), ('lives', 'NNS'), ('that', 'IN'), ('that', 'DT'), ('nation', 'NN'), ('might', 'MD'), ('live', 'VB'), ('.', '.')]\n",
      "[('It', 'PRP'), ('is', 'VBZ'), ('altogether', 'RB'), ('fitting', 'JJ'), ('and', 'CC'), ('proper', 'JJ'), ('that', 'IN'), ('we', 'PRP'), ('should', 'MD'), ('do', 'VB'), ('this', 'DT'), ('.', '.')]\n",
      "[('But', 'CC'), (',', ','), ('in', 'IN'), ('a', 'DT'), ('larger', 'JJR'), ('sense', 'NN'), (',', ','), ('we', 'PRP'), ('can', 'MD'), ('not', 'RB'), ('dedicate—we', 'VB'), ('can', 'MD'), ('not', 'RB'), ('consecrate—we', 'VB'), ('can', 'MD'), ('not', 'RB'), ('hallow—this', 'VB'), ('ground', 'NN'), ('.', '.')]\n",
      "[('The', 'DT'), ('brave', 'NN'), ('men', 'NNS'), (',', ','), ('living', 'NN'), ('and', 'CC'), ('dead', 'JJ'), (',', ','), ('who', 'WP'), ('struggled', 'VBD'), ('here', 'RB'), (',', ','), ('have', 'VBP'), ('consecrated', 'VBN'), ('it', 'PRP'), (',', ','), ('far', 'RB'), ('above', 'IN'), ('our', 'PRP$'), ('poor', 'JJ'), ('power', 'NN'), ('to', 'TO'), ('add', 'VB'), ('or', 'CC'), ('detract', 'VB'), ('.', '.')]\n",
      "[('The', 'DT'), ('world', 'NN'), ('will', 'MD'), ('little', 'VB'), ('note', 'NN'), (',', ','), ('nor', 'CC'), ('long', 'JJ'), ('remember', 'VB'), ('what', 'WP'), ('we', 'PRP'), ('say', 'VBP'), ('here', 'RB'), (',', ','), ('but', 'CC'), ('it', 'PRP'), ('can', 'MD'), ('never', 'RB'), ('forget', 'VB'), ('what', 'WP'), ('they', 'PRP'), ('did', 'VBD'), ('here', 'RB'), ('.', '.')]\n",
      "[('It', 'PRP'), ('is', 'VBZ'), ('for', 'IN'), ('us', 'PRP'), ('the', 'DT'), ('living', 'NN'), (',', ','), ('rather', 'RB'), (',', ','), ('to', 'TO'), ('be', 'VB'), ('dedicated', 'VBN'), ('here', 'RB'), ('to', 'TO'), ('the', 'DT'), ('unfinished', 'JJ'), ('work', 'NN'), ('which', 'WDT'), ('they', 'PRP'), ('who', 'WP'), ('fought', 'VBP'), ('here', 'RB'), ('have', 'VBP'), ('thus', 'RB'), ('far', 'RB'), ('so', 'RB'), ('nobly', 'RB'), ('advanced', 'JJ'), ('.', '.')]\n",
      "[('It', 'PRP'), ('is', 'VBZ'), ('rather', 'RB'), ('for', 'IN'), ('us', 'PRP'), ('to', 'TO'), ('be', 'VB'), ('here', 'RB'), ('dedicated', 'VBN'), ('to', 'TO'), ('the', 'DT'), ('great', 'JJ'), ('task', 'NN'), ('remaining', 'VBG'), ('before', 'IN'), ('us—that', 'JJ'), ('from', 'IN'), ('these', 'DT'), ('honored', 'VBN'), ('dead', 'NN'), ('we', 'PRP'), ('take', 'VBP'), ('increased', 'JJ'), ('devotion', 'NN'), ('to', 'TO'), ('that', 'DT'), ('cause', 'NN'), ('for', 'IN'), ('which', 'WDT'), ('they', 'PRP'), ('gave', 'VBD'), ('the', 'DT'), ('last', 'JJ'), ('full', 'JJ'), ('measure', 'NN'), ('of', 'IN'), ('devotion—that', 'NN'), ('we', 'PRP'), ('here', 'RB'), ('highly', 'RB'), ('resolve', 'VBP'), ('that', 'IN'), ('these', 'DT'), ('dead', 'JJ'), ('shall', 'MD'), ('not', 'RB'), ('have', 'VB'), ('died', 'VBN'), ('in', 'IN'), ('vain—that', 'WP'), ('this', 'DT'), ('nation', 'NN'), (',', ','), ('under', 'IN'), ('God', 'NNP'), (',', ','), ('shall', 'MD'), ('have', 'VB'), ('a', 'DT'), ('new', 'JJ'), ('birth', 'NN'), ('of', 'IN'), ('freedom—and', 'NN'), ('that', 'WDT'), ('government', 'NN'), ('of', 'IN'), ('the', 'DT'), ('people', 'NNS'), (',', ','), ('by', 'IN'), ('the', 'DT'), ('people', 'NNS'), (',', ','), ('for', 'IN'), ('the', 'DT'), ('people', 'NNS'), (',', ','), ('shall', 'MD'), ('not', 'RB'), ('perish', 'VB'), ('from', 'IN'), ('the', 'DT'), ('earth', 'NN'), ('.', '.')]\n",
      "(S\n",
      "  It/PRP\n",
      "  is/VBZ\n",
      "  rather/RB\n",
      "  for/IN\n",
      "  us/PRP\n",
      "  to/TO\n",
      "  be/VB\n",
      "  here/RB\n",
      "  dedicated/VBN\n",
      "  to/TO\n",
      "  (NP the/DT great/JJ task/NN)\n",
      "  remaining/VBG\n",
      "  before/IN\n",
      "  us—that/JJ\n",
      "  from/IN\n",
      "  these/DT\n",
      "  honored/VBN\n",
      "  (NP dead/NN)\n",
      "  we/PRP\n",
      "  take/VBP\n",
      "  (NP increased/JJ devotion/NN)\n",
      "  to/TO\n",
      "  (NP that/DT cause/NN)\n",
      "  for/IN\n",
      "  which/WDT\n",
      "  they/PRP\n",
      "  gave/VBD\n",
      "  (NP the/DT last/JJ full/JJ measure/NN)\n",
      "  of/IN\n",
      "  (NP devotion—that/NN)\n",
      "  we/PRP\n",
      "  here/RB\n",
      "  highly/RB\n",
      "  resolve/VBP\n",
      "  that/IN\n",
      "  these/DT\n",
      "  dead/JJ\n",
      "  shall/MD\n",
      "  not/RB\n",
      "  have/VB\n",
      "  died/VBN\n",
      "  in/IN\n",
      "  vain—that/WP\n",
      "  (NP this/DT nation/NN)\n",
      "  ,/,\n",
      "  under/IN\n",
      "  God/NNP\n",
      "  ,/,\n",
      "  shall/MD\n",
      "  have/VB\n",
      "  (NP a/DT new/JJ birth/NN)\n",
      "  of/IN\n",
      "  (NP freedom—and/NN)\n",
      "  that/WDT\n",
      "  (NP government/NN)\n",
      "  of/IN\n",
      "  the/DT\n",
      "  people/NNS\n",
      "  ,/,\n",
      "  by/IN\n",
      "  the/DT\n",
      "  people/NNS\n",
      "  ,/,\n",
      "  for/IN\n",
      "  the/DT\n",
      "  people/NNS\n",
      "  ,/,\n",
      "  shall/MD\n",
      "  not/RB\n",
      "  perish/VB\n",
      "  from/IN\n",
      "  (NP the/DT earth/NN)\n",
      "  ./.)\n"
     ]
    }
   ],
   "source": [
    "\n",
    "from nltk.corpus import stopwords \n",
    "from nltk.tokenize import word_tokenize, sent_tokenize \n",
    "stop_words = set(stopwords.words('english')) \n",
    "txt=\"Four score and seven years ago our fathers brought forth on this continent, a new nation, conceived in Liberty, and dedicated to the proposition that all men are created equal. Now we are engaged in a great civil war, testing whether that nation, or any nation so conceived and so dedicated, can long endure. We are met on a great battle-field of that war. We have come to dedicate a portion of that field, as a final resting place for those who here gave their lives that that nation might live. It is altogether fitting and proper that we should do this. But, in a larger sense, we can not dedicate—we can not consecrate—we can not hallow—this ground. The brave men, living and dead, who struggled here, have consecrated it, far above our poor power to add or detract. The world will little note, nor long remember what we say here, but it can never forget what they did here. It is for us the living, rather, to be dedicated here to the unfinished work which they who fought here have thus far so nobly advanced. It is rather for us to be here dedicated to the great task remaining before us—that from these honored dead we take increased devotion to that cause for which they gave the last full measure of devotion—that we here highly resolve that these dead shall not have died in vain—that this nation, under God, shall have a new birth of freedom—and that government of the people, by the people, for the people, shall not perish from the earth.\"\n",
    "tokenized = sent_tokenize(txt) \n",
    "for i in tokenized:\n",
    "    wordsList = nltk.word_tokenize(i) \n",
    "    tagged = nltk.pos_tag(wordsList)\n",
    "    print(tagged)\n",
    "grammar=\"NP:{<DT>?<JJ>*<NN>}\"\n",
    "cp=nltk.RegexpParser(grammar)\n",
    "result= cp.parse(tagged)\n",
    "print (result)"
   ]
  },
  {
   "cell_type": "code",
   "execution_count": 12,
   "metadata": {},
   "outputs": [],
   "source": [
    "result.draw()"
   ]
  },
  {
   "cell_type": "code",
   "execution_count": null,
   "metadata": {},
   "outputs": [],
   "source": []
  }
 ],
 "metadata": {
  "kernelspec": {
   "display_name": "Python 3",
   "language": "python",
   "name": "python3"
  },
  "language_info": {
   "codemirror_mode": {
    "name": "ipython",
    "version": 3
   },
   "file_extension": ".py",
   "mimetype": "text/x-python",
   "name": "python",
   "nbconvert_exporter": "python",
   "pygments_lexer": "ipython3",
   "version": "3.7.6"
  }
 },
 "nbformat": 4,
 "nbformat_minor": 4
}
